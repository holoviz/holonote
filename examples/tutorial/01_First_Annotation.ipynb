{
 "cells": [
  {
   "cell_type": "markdown",
   "id": "87c3f7ae-8ab0-4a3b-802b-66f42bd7a098",
   "metadata": {},
   "source": [
    "# Annotate a HoloViews plot with HoloNote\n",
    "\n",
    "Let's say you have a HoloViews/hvplot plot that you want to annotate, but you don't want to have to edit the plot itself. You can use HoloNote to add annotations to the plot and save the annotated plot to a database.\n",
    "\n",
    "Let's start by importing the libraries we'll need for the plot and create the plot."
   ]
  },
  {
   "cell_type": "code",
   "execution_count": null,
   "id": "cca0feaa-3a33-4166-bfe9-50cd05a9970b",
   "metadata": {},
   "outputs": [],
   "source": [
    "import hvplot.pandas\n",
    "import pandas as pd\n",
    "\n",
    "speed_data = pd.read_parquet(\"../assets/example.parquet\")\n",
    "speed_curve = speed_data.hvplot(\"TIME\", \"SPEED\")"
   ]
  },
  {
   "cell_type": "markdown",
   "id": "5459593a-447d-4cc1-9a53-b22f791d23f5",
   "metadata": {},
   "source": [
    "## Annotator Class from HoloNote\n",
    "\n",
    "To start annotate you can provide the plot object and specify the fields that you want to annotate. This will get the relevant specifications for the plot.\n",
    "\n",
    "Here's an example of how to initialize an `Annotator` object:"
   ]
  },
  {
   "cell_type": "code",
   "execution_count": null,
   "id": "8197c71c-38c1-4752-b68d-b2866e783f53",
   "metadata": {},
   "outputs": [],
   "source": [
    "from holonote.annotate import Annotator\n",
    "\n",
    "annotator = Annotator(speed_curve, fields=['description'])"
   ]
  },
  {
   "cell_type": "markdown",
   "id": "f0301d06-b853-4d88-9bfd-7ffb110882f8",
   "metadata": {},
   "source": [
    "## The first annotation\n",
    "\n",
    "To begin annotating a plot, we can use the annotator  in combination with the plot itself. By multiplying these two elements, we can create annotations on the plot where we can highlight regions of interest. "
   ]
  },
  {
   "cell_type": "code",
   "execution_count": null,
   "id": "74bd5c0d-bf83-4e5a-bac0-65d3fa640762",
   "metadata": {},
   "outputs": [],
   "source": [
    "annotator * speed_curve"
   ]
  },
  {
   "cell_type": "markdown",
   "id": "70543b07-eff9-4802-9884-b292c71bf5f3",
   "metadata": {},
   "source": [
    "Let's start by highlighting the empty region and then we can add some description to the annotation. When running the cell below, you should see the highlighted region changing from blue to red and when you hover over the highlighted region, you will see the description."
   ]
  },
  {
   "cell_type": "code",
   "execution_count": null,
   "id": "72e3d85d-acc6-4df3-a996-3fc3f1bcdc35",
   "metadata": {},
   "outputs": [],
   "source": [
    "annotator.add_annotation(description=\"We are missing data here\")"
   ]
  },
  {
   "cell_type": "markdown",
   "id": "3f4e5673-e362-4a58-9bb3-774f97d87ca6",
   "metadata": {},
   "source": [
    "To save the data to a database and persist the data we use the `.commit` method."
   ]
  },
  {
   "cell_type": "code",
   "execution_count": null,
   "id": "20253f2d-a505-4f26-82c3-836783edcea7",
   "metadata": {},
   "outputs": [],
   "source": [
    "annotator.commit()"
   ]
  },
  {
   "cell_type": "markdown",
   "id": "fa03c22b-ca9d-49a1-bc39-5d67c0abb154",
   "metadata": {},
   "source": [
    "## Create a region programmatically\n",
    "\n",
    "We can also create a region programmatically. Let's say we want to highlight the region between 9:00 and 11:00 the 2022-06-08 . We can do this with the following command:"
   ]
  },
  {
   "cell_type": "code",
   "execution_count": null,
   "id": "13cab6e6-7b4b-4a52-814a-4a9487ae25bc",
   "metadata": {},
   "outputs": [],
   "source": [
    "annotator.set_regions(TIME=(pd.Timestamp('2022-06-08 09:00:00'), pd.Timestamp('2022-06-08 11:00:00')))"
   ]
  },
  {
   "cell_type": "markdown",
   "id": "e1154fbb-4872-446c-b28d-120bc8417fdc",
   "metadata": {},
   "source": [
    "And then again we can add a description to the annotation and save the data to the database."
   ]
  },
  {
   "cell_type": "code",
   "execution_count": null,
   "id": "5ce73796-9cdf-4010-8200-81424158e7b8",
   "metadata": {},
   "outputs": [],
   "source": [
    "annotator.add_annotation(description=\"Weird drop in the data\")\n",
    "annotator.commit()"
   ]
  },
  {
   "cell_type": "markdown",
   "id": "901814a1-8d12-425a-9040-72fd55c27b8d",
   "metadata": {},
   "source": [
    "To get a DataFrame with all the annotations we can use the `.df` property."
   ]
  },
  {
   "cell_type": "code",
   "execution_count": null,
   "id": "8db7d499-38d6-41b2-b560-10242734e679",
   "metadata": {},
   "outputs": [],
   "source": [
    "annotator.df"
   ]
  },
  {
   "cell_type": "markdown",
   "id": "b8398e80-77f1-49f3-ab80-9a3a9e9729dd",
   "metadata": {},
   "source": [
    "## Edit annotation"
   ]
  },
  {
   "cell_type": "markdown",
   "id": "6a27f847-7e5c-499e-9525-79311bcc3783",
   "metadata": {},
   "source": [
    "By clicking on an annotation in the plot, we can get the index of the annotation. "
   ]
  },
  {
   "cell_type": "code",
   "execution_count": null,
   "id": "5e609885-e52c-4351-a1bc-bb598733cdee",
   "metadata": {},
   "outputs": [],
   "source": [
    "annotator.selected_index"
   ]
  },
  {
   "cell_type": "markdown",
   "id": "62025e28-7d8c-47ad-83d3-c8784765f1b8",
   "metadata": {},
   "source": [
    "Let's say we want to change the description of the annotation we just created:"
   ]
  },
  {
   "cell_type": "code",
   "execution_count": null,
   "id": "6177c79e-1e67-4415-9adf-4e4bc4728f41",
   "metadata": {},
   "outputs": [],
   "source": [
    "index = annotator.selected_index if annotator.selected_index else annotator.df.index[-1] # To be sure that we have an index\n",
    "annotator.update_annotation_fields(index, description='Weird drop in the data, can be related to a restart')  # Update the description"
   ]
  },
  {
   "cell_type": "markdown",
   "id": "82ae657e-44b7-4911-88ae-b4385c1e34aa",
   "metadata": {},
   "source": [
    "And again we should be commit the change to the database to persist the change."
   ]
  },
  {
   "cell_type": "code",
   "execution_count": null,
   "id": "c50212bf-e980-475b-86f5-91f471162e9e",
   "metadata": {},
   "outputs": [],
   "source": [
    "annotator.commit()"
   ]
  },
  {
   "cell_type": "markdown",
   "id": "8a00b49f-c761-4096-8587-6f69af21c8d2",
   "metadata": {},
   "source": [
    "## Delete annotation\n",
    "\n",
    "The last thing we can do is delete an annotation. This is very similar to editing an annotation."
   ]
  },
  {
   "cell_type": "code",
   "execution_count": null,
   "id": "90eb054e-99c9-4a59-ad56-c7799c810f30",
   "metadata": {},
   "outputs": [],
   "source": [
    "annotator.delete_annotation(index)"
   ]
  }
 ],
 "metadata": {
  "language_info": {
   "name": "python",
   "pygments_lexer": "ipython3"
  }
 },
 "nbformat": 4,
 "nbformat_minor": 5
}
