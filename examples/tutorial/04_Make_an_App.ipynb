{
 "cells": [
  {
   "cell_type": "markdown",
   "id": "29686db3-3167-44e4-8868-6b18b1e17ece",
   "metadata": {},
   "source": [
    "## Make an App\n",
    "\n",
    "By using the rest of the HoloViz ecosystem, you can easily turn your annotated data into a fully interactive dashboard or web application.  Here we'll show how to use [Panel](https://panel.holoviz.org) to turn the annotated data into a dashboard that lets you explore the data and the annotations.\n",
    "\n",
    "But first, let's load the data:"
   ]
  },
  {
   "cell_type": "code",
   "execution_count": null,
   "id": "e9254fc3-0447-440e-825e-68e02dcb9eb7",
   "metadata": {},
   "outputs": [],
   "source": [
    "import hvplot.pandas\n",
    "import numpy as np\n",
    "import pandas as pd\n",
    "import panel as pn\n",
    "\n",
    "pn.extension()\n",
    "\n",
    "speed_data = pd.read_parquet(\"../assets/example.parquet\")\n",
    "speed_curve = speed_data.hvplot(\"TIME\", \"SPEED\")"
   ]
  },
  {
   "cell_type": "markdown",
   "id": "e28ad0ab-b058-492e-a6e6-adb3bc5a497f",
   "metadata": {},
   "source": [
    "To make the app more advanced we will add more fields to the data.  We'll add a `Stoppage` field that indicates whether it was a stoppage or not, and a `Reason` field that will contain the reason for the stoppage if it was a stoppage.  Lastly, we'll add a `Category` field that will contain the category of the event, which we later will set mechanical, electrical, planned, or other."
   ]
  },
  {
   "cell_type": "code",
   "execution_count": null,
   "id": "74340a51-d1b0-4cd7-954f-923f45c50941",
   "metadata": {},
   "outputs": [],
   "source": [
    "from holonote.annotate import Annotator\n",
    "\n",
    "fields = [\"Stoppage\", \"Reason\", \"Category\"]\n",
    "annotator = Annotator({\"TIME\": np.datetime64}, fields=fields)\n",
    "annotator_element = annotator * speed_curve"
   ]
  },
  {
   "cell_type": "markdown",
   "id": "85ff1b48-ffb3-42e9-a9a4-c62ee239c12f",
   "metadata": {},
   "source": [
    "HoloNote has an easy to make the widgets to annotate the data in `PanelWidgets`, the options for the fields mentioned above will be passed to the `PanelWidgets` class with the `fields_values` dictionary. "
   ]
  },
  {
   "cell_type": "code",
   "execution_count": null,
   "id": "b65b2e68-057c-490c-9061-4ee4ea69ca0e",
   "metadata": {},
   "outputs": [],
   "source": [
    "from holonote.app import PanelWidgets\n",
    "\n",
    "fields_values = {\n",
    "    \"Stoppage\": [\"Yes\", \"No\"],\n",
    "    \"Category\": [\"Mechanical\", \"Electrical\", \"Planned\", \"Other\"],\n",
    "}\n",
    "\n",
    "tools = PanelWidgets(annotator, field_values=fields_values)\n",
    "pn.Row(tools, annotator_element).servable()"
   ]
  }
 ],
 "metadata": {
  "language_info": {
   "name": "python",
   "pygments_lexer": "ipython3"
  }
 },
 "nbformat": 4,
 "nbformat_minor": 5
}
