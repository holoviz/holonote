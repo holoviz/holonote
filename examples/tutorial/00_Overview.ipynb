{
 "cells": [
  {
   "cell_type": "markdown",
   "id": "87c3f7ae-8ab0-4a3b-802b-66f42bd7a098",
   "metadata": {},
   "source": [
    "# HoloNote Tutorial\n",
    "\n",
    "The HoloNote library is a valuable tool that provides users with a range of options to create, edit, and save annotated regions from HoloViews plots. \n",
    "\n",
    "The tutorial will walk you through the basic functionality of the HoloNote library.\n",
    "\n",
    "## Sections\n",
    "\n",
    "01. [First Annotation](01_First_Annotation.ipynb)\n",
    "02. [Multiple Annotations](02_Multiple_Annotations.ipynb)\n",
    "03. [Style Annotations](03_Styling_of_Annotations.ipynb)\n",
    "04. [Make an App](04_Make_an_App.ipynb)\n",
    "05. [Watch events](05_Watch_Events.ipynb)"
   ]
  },
  {
   "cell_type": "markdown",
   "id": "b534178b-5c3c-4de9-9e7c-c8ec47c7bb78",
   "metadata": {},
   "source": [
    "## Setup\n",
    "Throughout this tutorial we will be working with the following dataset, the dataset consist of speed measurement over time, with dropout in the data."
   ]
  },
  {
   "cell_type": "code",
   "execution_count": null,
   "id": "aca8475f-70c3-4d34-a052-bbeea304473c",
   "metadata": {},
   "outputs": [],
   "source": [
    "import hvplot.pandas  # noqa: F401\n",
    "import pandas as pd\n",
    "\n",
    "speed_data = pd.read_parquet(\"../assets/example.parquet\")\n",
    "speed_data.hvplot(\"TIME\", \"SPEED\")"
   ]
  }
 ],
 "metadata": {
  "language_info": {
   "name": "python",
   "pygments_lexer": "ipython3"
  }
 },
 "nbformat": 4,
 "nbformat_minor": 5
}
