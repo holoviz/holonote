{
 "cells": [
  {
   "cell_type": "markdown",
   "id": "87c3f7ae-8ab0-4a3b-802b-66f42bd7a098",
   "metadata": {},
   "source": [
    "# Annotate multiple plots\n",
    "\n",
    "Let's start by importing the libraries we'll need for the plot and create the plot. We will here create a plots, where speed have been cutoff if it under 100."
   ]
  },
  {
   "cell_type": "code",
   "execution_count": null,
   "id": "cca0feaa-3a33-4166-bfe9-50cd05a9970b",
   "metadata": {},
   "outputs": [],
   "source": [
    "import hvplot.pandas\n",
    "import numpy as np\n",
    "import pandas as pd\n",
    "\n",
    "raw_speed_data = pd.read_parquet(\"../assets/example.parquet\")\n",
    "raw_speed_curve = raw_speed_data.hvplot(\"TIME\", \"SPEED\")\n",
    "\n",
    "filt_speed_data = raw_speed_data.copy()\n",
    "filt_speed_data.loc[raw_speed_data.SPEED < 98, \"SPEED\"] = pd.NA\n",
    "filt_speed_curve = filt_speed_data.hvplot(\"TIME\", \"SPEED\")\n",
    "\n",
    "raw_speed_curve + filt_speed_curve"
   ]
  },
  {
   "cell_type": "markdown",
   "id": "5459593a-447d-4cc1-9a53-b22f791d23f5",
   "metadata": {},
   "source": [
    "## Shared key dimension\n",
    "\n",
    "Here we will use the fact that the key dimension of both plot is `TIME`, and create the annotator based on one of the plots. We will then overlaid that annotaotr on top of both plots. \n",
    "\n",
    "If you already have run the [previous example](00_first_annotation) you will see some familiar annotations."
   ]
  },
  {
   "cell_type": "code",
   "execution_count": null,
   "id": "8197c71c-38c1-4752-b68d-b2866e783f53",
   "metadata": {},
   "outputs": [],
   "source": [
    "from holonote.annotate import Annotator\n",
    "\n",
    "annotator = Annotator(filt_speed_curve, fields=['description'])\n",
    "annotator * raw_speed_curve + annotator * filt_speed_curve"
   ]
  },
  {
   "cell_type": "markdown",
   "id": "70543b07-eff9-4802-9884-b292c71bf5f3",
   "metadata": {},
   "source": [
    "When you highlight one of the annotations, it will show up on both plots. Lets highlight the region around the 19th of July on the filtered curve."
   ]
  },
  {
   "cell_type": "code",
   "execution_count": null,
   "id": "72e3d85d-acc6-4df3-a996-3fc3f1bcdc35",
   "metadata": {},
   "outputs": [],
   "source": [
    "annotator.add_annotation(description=\"Missing data on filtered data\")"
   ]
  },
  {
   "cell_type": "markdown",
   "id": "3f4e5673-e362-4a58-9bb3-774f97d87ca6",
   "metadata": {},
   "source": [
    "To save the data to a database and persist the data we use the `.commit` method."
   ]
  },
  {
   "cell_type": "code",
   "execution_count": null,
   "id": "20253f2d-a505-4f26-82c3-836783edcea7",
   "metadata": {},
   "outputs": [],
   "source": [
    "annotator.commit()"
   ]
  },
  {
   "cell_type": "markdown",
   "id": "fa03c22b-ca9d-49a1-bc39-5d67c0abb154",
   "metadata": {},
   "source": [
    "## Different key dimensions\n",
    "\n",
    "Another way to annotate multiple plots is where the plots have different key dimensions. An example of this could be if we have a [power spectral density](https://en.wikipedia.org/wiki/Spectral_density) (PSD) of the data. The PSD is a function of frequency, and we would like to annotate the PSD with the same annotations as the time series.\n",
    "\n",
    "Lets create the PSD first, here we will use SciPy's [welch](https://docs.scipy.org/doc/scipy/reference/generated/scipy.signal.welch.html) function to calculate the PSD. The sampling frequency (fs) is 1 / (60 seconds). We will use HoloViews to plot the PSD in a log-log plot."
   ]
  },
  {
   "cell_type": "code",
   "execution_count": null,
   "id": "d13f31df-79b9-4faf-8bff-423734fdda19",
   "metadata": {},
   "outputs": [],
   "source": [
    "import holoviews as hv\n",
    "from scipy.signal import welch\n",
    "\n",
    "f, Pxx = welch(raw_speed_data.SPEED.fillna(0), fs=1 / 60, nperseg=1024, noverlap=20)\n",
    "welch_curve = hv.Curve((f[1:], Pxx[1:]), \"Frequency\", \"Power\").opts(logx=True, logy=True, tools=[\"hover\"])\n",
    "welch_curve"
   ]
  },
  {
   "cell_type": "markdown",
   "id": "318de028-2c60-4328-a432-d368ddd490ef",
   "metadata": {},
   "source": [
    "We will now create a new annotator which accounts for the fact that there is a new key dimension, frequency. This is done by passing in the specification directly."
   ]
  },
  {
   "cell_type": "code",
   "execution_count": null,
   "id": "d54d746e-e586-4901-986b-ac479e273608",
   "metadata": {},
   "outputs": [],
   "source": [
    "specification = {\"TIME\": np.datetime64, \"Frequency\": float}\n",
    "multi_annotator = Annotator(specification, fields=['description'])"
   ]
  },
  {
   "cell_type": "markdown",
   "id": "99c6ecb5-3ad3-4862-9d85-425640851cad",
   "metadata": {},
   "source": [
    "You should now be able to annotate both on the time series plot and the PSD plot.  "
   ]
  },
  {
   "cell_type": "code",
   "execution_count": null,
   "id": "2324a7ed-e6ef-4872-b31e-8dde6c3b25fd",
   "metadata": {},
   "outputs": [],
   "source": [
    "multi_annotator * filt_speed_curve + multi_annotator * welch_curve"
   ]
  },
  {
   "cell_type": "markdown",
   "id": "e1154fbb-4872-446c-b28d-120bc8417fdc",
   "metadata": {},
   "source": [
    "And then again we can add a description to the annotation and save the data to the database."
   ]
  },
  {
   "cell_type": "code",
   "execution_count": null,
   "id": "5ce73796-9cdf-4010-8200-81424158e7b8",
   "metadata": {},
   "outputs": [],
   "source": [
    "multi_annotator.add_annotation(description=\"Missing data in time and spike in filtered data\")\n",
    "multi_annotator.commit()"
   ]
  }
 ],
 "metadata": {
  "language_info": {
   "name": "python",
   "pygments_lexer": "ipython3"
  }
 },
 "nbformat": 4,
 "nbformat_minor": 5
}
