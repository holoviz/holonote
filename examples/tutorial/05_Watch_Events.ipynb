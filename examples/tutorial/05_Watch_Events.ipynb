{
 "cells": [
  {
   "cell_type": "markdown",
   "id": "fbba196f",
   "metadata": {},
   "source": [
    "## Watch for events\n",
    "\n",
    "It is possible to watch for events on a plot and trigger a callback when an event occurs.  This can be used to trigger a computation, or to update other plots or widgets. Here we'll show how to use it with [Panels](https://panel.holoviz.org) notifications. First, let's set up the annotations\n"
   ]
  },
  {
   "cell_type": "code",
   "execution_count": null,
   "id": "86a4fefd-4aa9-476c-badc-b8ad0bcca9f4",
   "metadata": {},
   "outputs": [],
   "source": [
    "import holoviews as hv\n",
    "import panel as pn\n",
    "\n",
    "from holonote.annotate import Annotator\n",
    "from holonote.app import PanelWidgets\n",
    "\n",
    "hv.extension(\"bokeh\")\n",
    "pn.extension(notifications=True)\n",
    "\n",
    "annotator = Annotator({\"x\": float}, fields=[\"description\"])\n",
    "element = hv.Curve(range(10), kdims=\"x\")\n",
    "\n",
    "tools = PanelWidgets(annotator)\n",
    "pn.Row(tools, annotator * element)"
   ]
  },
  {
   "cell_type": "markdown",
   "id": "63c6e452",
   "metadata": {},
   "source": [
    "With that being set up, we can now define a callback that will be triggered when the user add an annotation.  The callback will then display a simple notification.\n",
    "\n",
    "The argument to the callback is an event, which contains the following information:\n",
    "- `type`: The type of event.\n",
    "- `index`: The index of the annotation.\n",
    "- `region`: The region that was added, updated, or deleted.\n",
    "- `fields`: The fields that were added, updated, or deleted.\n",
    "\n"
   ]
  },
  {
   "cell_type": "code",
   "execution_count": null,
   "id": "f9dfc126",
   "metadata": {},
   "outputs": [],
   "source": [
    "def notification(event):\n",
    "    if event.type == \"create\":\n",
    "        pn.state.notifications.info(\"Annotation created\")\n",
    "    elif event.type == \"delete\":\n",
    "        pn.state.notifications.error(\"Annotation deleted\")\n",
    "    elif event.type == \"update\":\n",
    "        pn.state.notifications.success(\"Annotation updated\")\n",
    "\n",
    "\n",
    "annotator.on_event(notification)"
   ]
  }
 ],
 "metadata": {
  "language_info": {
   "name": "python",
   "pygments_lexer": "ipython3"
  }
 },
 "nbformat": 4,
 "nbformat_minor": 5
}
