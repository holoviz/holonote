{
 "cells": [
  {
   "cell_type": "code",
   "execution_count": null,
   "id": "519af352-eba9-41d2-a164-c4b6ae4945d3",
   "metadata": {},
   "outputs": [],
   "source": [
    "import os\n",
    "import uuid\n",
    "\n",
    "import holoviews as hv\n",
    "import numpy as np\n",
    "import pandas as pd\n",
    "\n",
    "from holonote.annotate import Annotator, SQLiteDB\n",
    "\n",
    "hv.extension(\"bokeh\")"
   ]
  },
  {
   "cell_type": "code",
   "execution_count": null,
   "id": "e91ab795-0b03-4b9a-a31c-fb20dbf8035d",
   "metadata": {},
   "outputs": [],
   "source": [
    "xs = np.arange(\"2005-02\", \"2005-03\", dtype=\"datetime64[D]\")\n",
    "ys = np.arange(28)\n",
    "\n",
    "curve = hv.Curve((xs, ys), kdims=[\"TIME\"])\n",
    "curve"
   ]
  },
  {
   "cell_type": "code",
   "execution_count": null,
   "id": "b8075ba5-8635-4e96-87e9-31d4e17be678",
   "metadata": {},
   "outputs": [],
   "source": [
    "xvals = np.linspace(-4, 0, 202)\n",
    "yvals = np.linspace(4, 0, 202)\n",
    "xs, ys = np.meshgrid(xvals, yvals)\n",
    "alpha, beta = 1, 0\n",
    "ab_data = np.sin(((ys / alpha) ** alpha + beta) * xs)\n",
    "\n",
    "image = hv.Image(ab_data, kdims=[\"A\", \"B\"]).opts(cmap=\"greens\")\n",
    "image"
   ]
  },
  {
   "cell_type": "code",
   "execution_count": null,
   "id": "d02d0a45-f044-40eb-ad99-1105826937ff",
   "metadata": {},
   "outputs": [],
   "source": [
    "connector = SQLiteDB(table_name=\"multiplot\")\n",
    "spec = {  # Should be smarter!\n",
    "    **Annotator._infer_kdim_dtypes(curve),\n",
    "    **Annotator._infer_kdim_dtypes(image),\n",
    "}\n",
    "spec = {\"TIME\": np.datetime64, \"A\": np.float64, \"B\": np.float64}\n",
    "annotator = Annotator(spec, connector=connector, fields=[\"description\"])"
   ]
  },
  {
   "cell_type": "code",
   "execution_count": null,
   "id": "ddba311b-489b-4f04-ac2d-a9ad3db25cac",
   "metadata": {},
   "outputs": [],
   "source": [
    "annotator * curve + annotator * image"
   ]
  },
  {
   "cell_type": "code",
   "execution_count": null,
   "id": "c1c09972-3e85-4b7e-90cc-3f3edde71c15",
   "metadata": {},
   "outputs": [],
   "source": [
    "annotator.set_regions(\n",
    "    TIME=(np.datetime64(\"2005-02-13\"), np.datetime64(\"2005-02-16\")),\n",
    "    A=(-0.25, 0.25),\n",
    "    B=(-0.1, 0.1),\n",
    ")"
   ]
  },
  {
   "cell_type": "code",
   "execution_count": null,
   "id": "a2f94aec-581f-4b1b-8e3c-033f9c679cd0",
   "metadata": {},
   "outputs": [],
   "source": [
    "annotator.add_annotation(description=\"Annotation 2\")"
   ]
  },
  {
   "cell_type": "code",
   "execution_count": null,
   "id": "b7688ef7-d815-4bee-a31a-ae2e5343f3cc",
   "metadata": {},
   "outputs": [],
   "source": [
    "annotator.commit()"
   ]
  },
  {
   "cell_type": "code",
   "execution_count": null,
   "id": "0b02700b-f2bf-4a9b-a93b-227b72bf6c25",
   "metadata": {},
   "outputs": [],
   "source": [
    "annotator.selected_index"
   ]
  }
 ],
 "metadata": {
  "language_info": {
   "name": "python",
   "pygments_lexer": "ipython3"
  }
 },
 "nbformat": 4,
 "nbformat_minor": 5
}
