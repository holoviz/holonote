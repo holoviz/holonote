{
 "cells": [
  {
   "cell_type": "code",
   "execution_count": null,
   "id": "8cc9c2a3",
   "metadata": {},
   "outputs": [],
   "source": [
    "import holoviews as hv\n",
    "import hvplot.pandas\n",
    "import numpy as np\n",
    "import pandas as pd\n",
    "\n",
    "from holonote.annotate import Annotator, SQLiteDB\n",
    "from holonote.annotate.annotator import Style\n",
    "\n",
    "connector = SQLiteDB(table_name=\"test_img\")\n",
    "\n",
    "\n",
    "xvals  = np.linspace(-4, 0, 202)\n",
    "yvals  = np.linspace(4, 0, 202)\n",
    "xs, ys = np.meshgrid(xvals, yvals)\n",
    "\n",
    "alpha, beta = 1,0\n",
    "image = hv.Image(np.sin(((ys/alpha)**alpha+beta)*xs), kdims=['A', 'B']).opts(cmap='greens')\n"
   ]
  },
  {
   "cell_type": "code",
   "execution_count": null,
   "id": "9d011ecd-2b05-4735-abad-909c8df95c29",
   "metadata": {},
   "outputs": [],
   "source": [
    "annotator = Annotator(\n",
    "    image, fields=[\"description\", \"category\"], connector=connector\n",
    ")\n",
    "# Sample data\n",
    "data = {\n",
    "    \"category\": pd.Categorical([\"A\", \"B\", \"A\", \"C\", \"B\"]),\n",
    "    \"start_number\": np.array([1, 6, 11, 16, 21]) * 0.01,\n",
    "    \"end_number\": np.array([5, 10, 15, 20, 25]) * 0.01,\n",
    "    \"description\": list(\"ABCDE\"),\n",
    "}\n",
    "\n",
    "annotator.define_annotations(pd.DataFrame(data), A=(\"start_number\", \"end_number\"), B=(\"start_number\", \"end_number\"))\n",
    "annotator.df"
   ]
  },
  {
   "cell_type": "code",
   "execution_count": null,
   "id": "95b2effc-1184-476e-b7b2-9d279ae075da",
   "metadata": {},
   "outputs": [],
   "source": [
    "import panel as pn\n",
    "\n",
    "w1 = pn.widgets.MultiSelect(value=[\"A\"], options=list(\"ABC\"))\n",
    "w2 = pn.widgets.Select(value=\"category\", options=[\"description\", \"category\"])\n",
    "color_dim = hv.dim(\"category\").categorize(\n",
    "    categories={\"B\": \"red\", \"A\": \"blue\", \"C\": \"green\"}, default=\"grey\"\n",
    ")\n",
    "# style.groupby = \"category\"  # if not widget was used\n",
    "# style.visible = [\"A\", \"B\"]  # if not widget was used\n",
    "\n",
    "# Better if I did something like this: Annotator(..., style=style), only here for convenience.\n",
    "style = Style(visible=w1, groupby=w2, color=color_dim)\n",
    "annotator.style = style\n",
    "pn.Row(w1, w2)"
   ]
  },
  {
   "cell_type": "code",
   "execution_count": null,
   "id": "ffdea745-31ef-4c16-9dfe-4303e78067a2",
   "metadata": {},
   "outputs": [],
   "source": [
    "annotator * image"
   ]
  },
  {
   "cell_type": "code",
   "execution_count": null,
   "id": "5dbd0fec-c329-4ef7-9b65-d18f65b44ec1",
   "metadata": {},
   "outputs": [],
   "source": [
    "style.edit_alpha = 0.3"
   ]
  }
 ],
 "metadata": {
  "language_info": {
   "name": "python",
   "pygments_lexer": "ipython3"
  }
 },
 "nbformat": 4,
 "nbformat_minor": 5
}
