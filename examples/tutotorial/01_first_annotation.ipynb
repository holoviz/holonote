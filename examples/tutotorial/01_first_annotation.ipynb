{
 "cells": [
  {
   "cell_type": "markdown",
   "id": "87c3f7ae-8ab0-4a3b-802b-66f42bd7a098",
   "metadata": {},
   "source": [
    "# Annotate a HoloViews plot with HoloNote\n",
    "\n",
    "Let's say you have a HoloViews/hvplot plot that you want to annotate, but you don't want to have to edit the plot itself. You can use HoloNote to add annotations to the plot and save the annotated plot to a database.\n",
    "\n",
    "Let's start by importing the libraries we'll need for the plot and create the plot."
   ]
  },
  {
   "cell_type": "code",
   "execution_count": null,
   "id": "cca0feaa-3a33-4166-bfe9-50cd05a9970b",
   "metadata": {},
   "outputs": [],
   "source": [
    "import hvplot.pandas  # noqa: F401\n",
    "import pandas as pd\n",
    "\n",
    "speed_data = pd.read_parquet(\"../assets/example.parquet\")\n",
    "speed_curve = speed_data.hvplot(\"TIME\", \"SPEED\")\n"
   ]
  },
  {
   "cell_type": "markdown",
   "id": "5459593a-447d-4cc1-9a53-b22f791d23f5",
   "metadata": {},
   "source": [
    "## Annotator Class from HoloNote\n",
    "\n",
    "To start annotate you can provide the plot object and specify the fields that you want to annotate. This will get the relevant specifications for the plot.\n",
    "\n",
    "Here's an example of how to initialize an `Annotator` object:\n"
   ]
  },
  {
   "cell_type": "code",
   "execution_count": null,
   "id": "8197c71c-38c1-4752-b68d-b2866e783f53",
   "metadata": {},
   "outputs": [],
   "source": [
    "from holonote.annotate import Annotator\n",
    "\n",
    "annotator = Annotator(speed_curve, fields=['description'])\n"
   ]
  },
  {
   "cell_type": "markdown",
   "id": "f0301d06-b853-4d88-9bfd-7ffb110882f8",
   "metadata": {},
   "source": [
    "## The first annotation\n",
    "\n",
    "To begin annotating a plot, we can use the annotator  in combination with the plot itself. By multiplying these two elements, we can create annotations on the plot where we can highlight regions of interest. "
   ]
  },
  {
   "cell_type": "code",
   "execution_count": null,
   "id": "74bd5c0d-bf83-4e5a-bac0-65d3fa640762",
   "metadata": {},
   "outputs": [],
   "source": [
    "annotator * speed_curve\n"
   ]
  },
  {
   "cell_type": "markdown",
   "id": "70543b07-eff9-4802-9884-b292c71bf5f3",
   "metadata": {},
   "source": [
    "Let's start by highlighting the empty region and then we can add some description to the annotation. When running the cell below, you should see the highlighted region changing from blue to red and when you hover over the highlighted region, you will see the description."
   ]
  },
  {
   "cell_type": "code",
   "execution_count": null,
   "id": "72e3d85d-acc6-4df3-a996-3fc3f1bcdc35",
   "metadata": {},
   "outputs": [],
   "source": [
    "annotator.add_annotation(description=\"We are missing data here\")\n"
   ]
  },
  {
   "cell_type": "markdown",
   "id": "3f4e5673-e362-4a58-9bb3-774f97d87ca6",
   "metadata": {},
   "source": [
    "To save the data to a database and persist the data we use the `.commit` method."
   ]
  },
  {
   "cell_type": "code",
   "execution_count": null,
   "id": "20253f2d-a505-4f26-82c3-836783edcea7",
   "metadata": {},
   "outputs": [],
   "source": [
    "annotator.commit()\n"
   ]
  },
  {
   "cell_type": "markdown",
   "id": "fa03c22b-ca9d-49a1-bc39-5d67c0abb154",
   "metadata": {},
   "source": [
    "## Create a region programmatically\n",
    "\n",
    "We can also create a region programmatically. Let's say we want to highlight the region between 9:00 and 11:00 the 2022-06-08 . We can do this with the following command:"
   ]
  },
  {
   "cell_type": "code",
   "execution_count": null,
   "id": "13cab6e6-7b4b-4a52-814a-4a9487ae25bc",
   "metadata": {},
   "outputs": [],
   "source": [
    "annotator.set_regions(TIME=(pd.Timestamp('2022-06-08 09:00:00'), pd.Timestamp('2022-06-08 11:00:00')))\n"
   ]
  },
  {
   "cell_type": "markdown",
   "id": "e1154fbb-4872-446c-b28d-120bc8417fdc",
   "metadata": {},
   "source": [
    "And then again we can add a description to the annotation and save the data to the database.\n"
   ]
  },
  {
   "cell_type": "code",
   "execution_count": null,
   "id": "5ce73796-9cdf-4010-8200-81424158e7b8",
   "metadata": {},
   "outputs": [],
   "source": [
    "annotator.add_annotation(description=\"Weird drop in the data\")\n",
    "annotator.commit()\n"
   ]
  }
 ],
 "metadata": {
  "language_info": {
   "name": "python",
   "pygments_lexer": "ipython3"
  }
 },
 "nbformat": 4,
 "nbformat_minor": 5
}
