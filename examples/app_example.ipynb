{
 "cells": [
  {
   "cell_type": "code",
   "execution_count": null,
   "id": "e9254fc3-0447-440e-825e-68e02dcb9eb7",
   "metadata": {},
   "outputs": [],
   "source": [
    "import panel as pn\n",
    "import numpy as np\n",
    "import pandas as pd\n",
    "import hvplot.pandas\n",
    "import numpy as np\n",
    "import holoviews as hv\n",
    "\n",
    "from holonote.annotate import SQLiteDB, Annotator\n",
    "from holonote.app import PanelWidgets\n",
    "\n",
    "pn.extension()"
   ]
  },
  {
   "cell_type": "markdown",
   "id": "4867a649-3a32-4004-8d81-f47090eacf98",
   "metadata": {},
   "source": [
    "# Single figure"
   ]
  },
  {
   "cell_type": "code",
   "execution_count": null,
   "id": "6273665b-b850-451b-a0c8-0635bcdfe765",
   "metadata": {},
   "outputs": [],
   "source": [
    "curve = pd.read_parquet(\"assets/example.parquet\").hvplot(x=\"TIME\")"
   ]
  },
  {
   "cell_type": "code",
   "execution_count": null,
   "id": "74340a51-d1b0-4cd7-954f-923f45c50941",
   "metadata": {},
   "outputs": [],
   "source": [
    "connector = SQLiteDB(table_name=\"test_app\")\n",
    "fields = [\"Stoppage\", \"Reason\", \"Category\"]\n",
    "annotator = Annotator({\"TIME\": np.datetime64}, fields=fields, connector=connector)\n",
    "annotator_element = annotator * curve"
   ]
  },
  {
   "cell_type": "code",
   "execution_count": null,
   "id": "b65b2e68-057c-490c-9061-4ee4ea69ca0e",
   "metadata": {},
   "outputs": [],
   "source": [
    "fields_values = {\n",
    "    \"Stoppage\": [\"Yes\", \"No\"],\n",
    "    \"Category\": [\"Mechanical\", \"Electrical\", \"Process\", \"Other\"],\n",
    "}\n",
    "\n",
    "w = PanelWidgets(annotator, field_values=fields_values)\n",
    "pn.Row(w, annotator_element).servable()"
   ]
  },
  {
   "cell_type": "markdown",
   "id": "cc26d77d-4c47-4037-a2a4-1b389988ff44",
   "metadata": {},
   "source": [
    "# Multiple figures"
   ]
  },
  {
   "cell_type": "code",
   "execution_count": null,
   "id": "e5a8c340-0211-436b-9f51-fe2240bc2a73",
   "metadata": {},
   "outputs": [],
   "source": [
    "xvals = np.linspace(-4, 0, 202)\n",
    "yvals = np.linspace(4, 0, 202)\n",
    "xs, ys = np.meshgrid(xvals, yvals)\n",
    "alpha, beta = 1, 0\n",
    "ab_data = np.sin(((ys / alpha) ** alpha + beta) * xs)\n",
    "\n",
    "image = hv.Image(ab_data, kdims=[\"A\", \"B\"]).opts(cmap=\"greens\")"
   ]
  },
  {
   "cell_type": "code",
   "execution_count": null,
   "id": "de2c967f-067b-47da-9fe7-201ee7cd2df4",
   "metadata": {},
   "outputs": [],
   "source": [
    "connector = SQLiteDB(table_name=\"test_multi_app\")\n",
    "fields = [\"Stoppage\", \"Reason\", \"Category\"]\n",
    "multi_annotator = Annotator(\n",
    "    {\"TIME\": np.datetime64, \"A\": float, \"B\": float}, fields=fields, connector=connector\n",
    ")\n",
    "\n",
    "multi_annotator_element = multi_annotator * curve + multi_annotator * image"
   ]
  },
  {
   "cell_type": "code",
   "execution_count": null,
   "id": "2896d0a4-54bc-4d49-97ab-59cb77a031f7",
   "metadata": {},
   "outputs": [],
   "source": [
    "mutli_w = PanelWidgets(multi_annotator, field_values=fields_values)\n",
    "pn.Row(mutli_w, multi_annotator_element).servable()"
   ]
  }
 ],
 "metadata": {
  "language_info": {
   "name": "python",
   "pygments_lexer": "ipython3"
  }
 },
 "nbformat": 4,
 "nbformat_minor": 5
}
