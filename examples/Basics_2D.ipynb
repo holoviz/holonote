{
 "cells": [
  {
   "cell_type": "code",
   "execution_count": null,
   "id": "8cc9c2a3",
   "metadata": {},
   "outputs": [],
   "source": [
    "import os, uuid\n",
    "\n",
    "import numpy as np\n",
    "import pandas as pd\n",
    "import holoviews as hv\n",
    "import hvplot.pandas\n",
    "\n",
    "from holonote.annotate import Annotator"
   ]
  },
  {
   "cell_type": "markdown",
   "id": "2c4a4b17-173b-43c2-ab20-251c459029fe",
   "metadata": {},
   "source": [
    "What you see in this notebook will depend on whether you've run this notebook before and written annotations to the `annotations.db` database! For reproducibility, the rest of the notebook will assume the `annotations.db` has been deleted (if it exists):"
   ]
  },
  {
   "cell_type": "markdown",
   "id": "92a16890",
   "metadata": {},
   "source": [
    "# Load some example data\n",
    "\n",
    "This basic example will be of a timeseries where we want to annotate various time intervals to illustrate the basics of the annotation system. Note that annotators can annotate all sorts of elements (e.g. `Image`, `Scatter` etc.) with many different region types which will be demonstrated later."
   ]
  },
  {
   "cell_type": "code",
   "execution_count": null,
   "id": "6f490501",
   "metadata": {},
   "outputs": [],
   "source": [
    "xvals  = np.linspace(-4, 0, 202)\n",
    "yvals  = np.linspace(4, 0, 202)\n",
    "xs, ys = np.meshgrid(xvals, yvals)\n",
    "\n",
    "alpha, beta = 1,0\n",
    "image = hv.Image(np.sin(((ys/alpha)**alpha+beta)*xs), kdims=['A', 'B']).opts(cmap='greens')\n",
    "image"
   ]
  },
  {
   "cell_type": "markdown",
   "id": "f321dd2a-3578-4226-8db0-6968a83e36ac",
   "metadata": {},
   "source": [
    "In the simplest case, simply wrap the element (here in a curve) in an `Annotator`:"
   ]
  },
  {
   "cell_type": "code",
   "execution_count": null,
   "id": "c595fd14-ebc8-4ad3-930b-c10e9bf13166",
   "metadata": {},
   "outputs": [],
   "source": [
    "annotator = Annotator(image, fields=['description'])"
   ]
  },
  {
   "cell_type": "markdown",
   "id": "05eb35b0-cb78-4653-806d-4d721fd6aa25",
   "metadata": {},
   "source": [
    "The `fields` argument lists the fields associated with the annotations we will be defining. When working with tabular data (the typical case), you can thing of fields as the columns of your table containing information about annotated regions.\n",
    "\n",
    "Here we supplied an element to annotator to the `Annotator` but note that most of the functionality of annotators can be made available by specifying the key dimensions and their types. The following is largely equivalent to the above declaration:\n",
    "\n",
    "```python\n",
    "annotator = Annotator({'A': np.float64, 'B': np.float64}, fields=['description'])\n",
    "```\n",
    "\n",
    "Now we can create an overlay of our element, a dynamicmap that shows the defined annotation regions and a dynamicmap used to define new regions:"
   ]
  },
  {
   "cell_type": "code",
   "execution_count": null,
   "id": "ffdea745-31ef-4c16-9dfe-4303e78067a2",
   "metadata": {},
   "outputs": [],
   "source": [
    "annotator * image"
   ]
  },
  {
   "cell_type": "markdown",
   "id": "4e04df65-d2c0-4dde-96f5-388447a32537",
   "metadata": {},
   "source": [
    "The default output of `.overlay` is designed to be useful by default. Options on controlling the displayed layers and their styles can be found in the **Using `.overlay` section**.\n",
    "\n",
    "**Note** The tools made available by the region editor is appropriate to the dimensionality of the element (here, a single key dimension on the x-axis)."
   ]
  },
  {
   "cell_type": "markdown",
   "id": "86b768c9-ada1-4d58-b417-1c0458522d49",
   "metadata": {},
   "source": [
    "## Basic operations on annotations\n",
    "\n",
    "#### Adding single annotations"
   ]
  },
  {
   "cell_type": "markdown",
   "id": "6aa7ab05-751a-4db4-9dec-c3be48ab1002",
   "metadata": {},
   "source": [
    "Using the box select tool, you can define a region of interest to annotate and run the following cell:"
   ]
  },
  {
   "cell_type": "code",
   "execution_count": null,
   "id": "fdd105f3-906c-4fbb-9fa6-9ac3583e716d",
   "metadata": {},
   "outputs": [],
   "source": [
    "annotator.add_annotation(description='My first annotation!')"
   ]
  },
  {
   "cell_type": "markdown",
   "id": "c0fd9b3f-8827-4e02-bb03-8edfbde88eb1",
   "metadata": {},
   "source": [
    "You can set the range of interest programmatically as well:"
   ]
  },
  {
   "cell_type": "code",
   "execution_count": null,
   "id": "f4008dc2-5281-43d5-9815-60b453f69bad",
   "metadata": {},
   "outputs": [],
   "source": [
    "annotator.set_regions(A=(-0.25,0.25),B=(-0.25,0.25))\n",
    "annotator.add_annotation(description='A programmatically defined annotation')"
   ]
  },
  {
   "cell_type": "markdown",
   "id": "aba5e351-8a24-4425-9988-a5d7c05c1b44",
   "metadata": {},
   "source": [
    "You should now see that annotated regions have appeared in the plot above. We can view a `DataFrame` of the data collected as follows:"
   ]
  },
  {
   "cell_type": "markdown",
   "id": "86c31dc7-f96c-46c0-9469-ddefea50d802",
   "metadata": {},
   "source": [
    "It is important to note the automatically generated `uuid` index (by default) which will be discussed in the next section\n",
    "\n",
    "To persist these annotations, we call the `.commit()` method:"
   ]
  },
  {
   "cell_type": "code",
   "execution_count": null,
   "id": "b61f2a89-636f-4414-bebc-77fe92fdbbb7",
   "metadata": {},
   "outputs": [],
   "source": [
    "annotator.commit()"
   ]
  },
  {
   "cell_type": "markdown",
   "id": "d591d364-4179-4009-aa78-b1a48609fe48",
   "metadata": {},
   "source": [
    "Now if we restart the notebook session (without forgetting to set `PERSIST=True` at the start!), you will see your annotations are automatically loaded and displayed."
   ]
  },
  {
   "cell_type": "markdown",
   "id": "d8521085-0adf-4b16-9708-533886ac655a",
   "metadata": {},
   "source": [
    "#### Simple selection of annotations\n",
    "\n",
    "The `uuid` index column of the dataframe above is how we refer to individual annotations. We may use this column directly, for instance we could get the uuid of the last annotation directly as follows:"
   ]
  },
  {
   "cell_type": "code",
   "execution_count": null,
   "id": "d24eee5f-a4ba-4662-a6c1-fcab15b13361",
   "metadata": {},
   "outputs": [],
   "source": [
    "uuid_of_last_annotation = annotator.df.index[-1]\n",
    "f'Last UUID in the dataframe: {uuid_of_last_annotation}'"
   ]
  },
  {
   "cell_type": "markdown",
   "id": "18335801-7230-40b9-a5b1-ed4d7050deec",
   "metadata": {},
   "source": [
    "Note that uuid values are randomly generated (by default) which means we do not know what these values will be ahead of time. As a result we need a programmatic way to access them. Using the dataframe index directly is awkward, so annotators offer a more natural, interactive way to select annotations - simply click on them in the plot to select them.\n",
    "\n",
    "Click on a range region in the plot above and run the following cell to see it's uuid:"
   ]
  },
  {
   "cell_type": "code",
   "execution_count": null,
   "id": "10204191-91df-4ec4-8fc5-7ff2f35d597f",
   "metadata": {},
   "outputs": [],
   "source": [
    "annotator.selected_index # None if no annotations are selected"
   ]
  },
  {
   "cell_type": "markdown",
   "id": "9effafe1-8f90-4a1f-8079-269a21a052df",
   "metadata": {},
   "source": [
    "See the 'Advanced selections' section for more information on selection."
   ]
  },
  {
   "cell_type": "markdown",
   "id": "6db46dc7-5261-45a3-a743-ed8282fcd943",
   "metadata": {},
   "source": [
    "#### Deleting single annotations\n",
    "\n",
    "Now we have added some annotations and have a way to select them, we can delete them.\n",
    "\n",
    "\n",
    "Select an annotation on the plot and run the following cell to delete it:"
   ]
  },
  {
   "cell_type": "code",
   "execution_count": null,
   "id": "a16fcaa6-9283-437f-86a3-00078f56a832",
   "metadata": {},
   "outputs": [],
   "source": [
    "selected_index = annotator.selected_index if annotator.selected_index else annotator.df.index[-1]\n",
    "annotator.delete_annotation(selected_index)"
   ]
  },
  {
   "cell_type": "markdown",
   "id": "55a5bd45-1771-47dc-8cbd-c5b2c1c9a33b",
   "metadata": {},
   "source": [
    "#### Updating annotations\n",
    "\n",
    "First let us add a new annotation to update:"
   ]
  },
  {
   "cell_type": "code",
   "execution_count": null,
   "id": "954608f0-0a8d-49c8-b26c-89eb85bfa6e5",
   "metadata": {},
   "outputs": [],
   "source": [
    "annotator.set_regions(A=(-0.35,-0.15), B=(-0.35,-0.25))\n",
    "annotator.add_annotation(description='An annotation description we will update...')"
   ]
  },
  {
   "cell_type": "markdown",
   "id": "e41a0d96-c425-4a15-8a7b-90c50918659a",
   "metadata": {},
   "source": [
    "Now click on the new annotation and run the following cell:"
   ]
  },
  {
   "cell_type": "code",
   "execution_count": null,
   "id": "5b79504c-07cc-405e-b19e-200f5022b0a4",
   "metadata": {},
   "outputs": [],
   "source": [
    "annotator.update_annotation_fields(annotator.selected_index if annotator.selected_index else annotator.df.index[-1], \n",
    "                                   description='The description is now updated!')"
   ]
  },
  {
   "cell_type": "markdown",
   "id": "0f7dd1e3-89d4-4449-a9e0-ac6cb427961f",
   "metadata": {},
   "source": [
    "To verify this operation worked, note how the hover information has updated in the plot above.\n",
    "\n",
    "Remember that all your changes to the annotations are not persisted to the database until you call `commit`! Frequent commits are recommended."
   ]
  },
  {
   "cell_type": "code",
   "execution_count": null,
   "id": "f0448927-9dd2-4027-8403-9f979104c724",
   "metadata": {},
   "outputs": [],
   "source": [
    "annotator.commit()"
   ]
  },
  {
   "cell_type": "markdown",
   "id": "c3368445-8ffc-47ab-a9ae-436571c2c557",
   "metadata": {},
   "source": [
    "## Explicit primary keys"
   ]
  },
  {
   "cell_type": "markdown",
   "id": "953181e8-9a51-4ef4-9320-b14f7a8dbe7e",
   "metadata": {},
   "source": [
    "We have the *option* to specify our own UUID when creating an annotation if necessary:"
   ]
  },
  {
   "cell_type": "code",
   "execution_count": null,
   "id": "4f6e7dba-6861-4896-bba5-0d04288941b7",
   "metadata": {},
   "outputs": [],
   "source": [
    "input_uuid = 'deadcafe'\n",
    "description = f'Annotation with set UUID {input_uuid!r}'\n",
    "annotator.set_regions(A=(-0.35,-0.15), B=(-0.35,-0.25))\n",
    "annotator.add_annotation(description=description, uuid=input_uuid)\n",
    "description"
   ]
  },
  {
   "cell_type": "markdown",
   "id": "25e4afc3-5ed8-4720-ae6d-c55f4ff2e0c9",
   "metadata": {},
   "source": [
    "This option is offered to give you full control over what is entered into the database, however it is recommended that you do *not* specify the primary key value yourself unless you really need to due to the following caveats:\n",
    "\n",
    "#### *Caveats when picking your own primary keys*\n",
    "\n",
    "While it may occasionally be convenient to name your own annotations in notebooks with set primary key values, you should be aware that the primary key value you pick is then supplied to the database.  This implies the following restrictions:\n",
    "\n",
    "* It is your responsibility to ensure the key is unique and not used by any other annotation in the database.\n",
    "* It is your responsibility to ensure the key is of the valid type and format for storage in the database.\n",
    "\n",
    "For these reasons, it is generally recommended you allow the annotator to pick the key values automatically (a process you can customize as detailed in the Persisting Annotations notebook) and then refer to annotations via the dataframe index or interactive selection as previously demonstrated.\n",
    "\n",
    "Now we have demonstrated the creation of an explicitly named annotation, we can delete it and revert to using the recommended mechanisms for selecting annotations:"
   ]
  },
  {
   "cell_type": "code",
   "execution_count": null,
   "id": "71f5973d-f99c-4b32-81a8-08eb400c362a",
   "metadata": {},
   "outputs": [],
   "source": [
    "annotator.delete_annotation('deadcafe') # List more uuids to delete multiple annotations at once"
   ]
  },
  {
   "cell_type": "code",
   "execution_count": null,
   "id": "5653b882-b464-483b-87aa-523438a4e582",
   "metadata": {},
   "outputs": [],
   "source": [
    "annotator.commit()"
   ]
  },
  {
   "cell_type": "markdown",
   "id": "3b5e7b12-356d-42bf-846d-e2ef6874380f",
   "metadata": {},
   "source": [
    "## Adding and deleting multiple annotations\n",
    "\n",
    "#### Loading from a dataframe\n",
    "\n",
    "Sometimes we have a dataframe with some annotation we want to load and it does not make sense to loop over the rows for insertion. Suppose we have the following dataframe:"
   ]
  },
  {
   "cell_type": "code",
   "execution_count": null,
   "id": "df00075d-d740-423f-9497-2df76a180c40",
   "metadata": {},
   "outputs": [],
   "source": [
    "startx, endx = [-0.1,-0.2,-0.3], [0.1,0.2,0.3]\n",
    "starty, endy = [-0.2,-0.3,-0.4], [0.2,0.3,0.4]\n",
    "descriptions = [\"Annotation 0\", \"Annotation 1\", \"Annotation 2\"]\n",
    "data = pd.DataFrame({'startx':startx, 'endx':endx, 'starty':starty, 'endy':endy, 'description':descriptions})\n",
    "data"
   ]
  },
  {
   "cell_type": "markdown",
   "id": "fc931d2b-285a-4fa3-944d-f17c39196344",
   "metadata": {},
   "source": [
    "To load this data, we use `define_annotations` and pass in the columns from the DataFrame. "
   ]
  },
  {
   "cell_type": "code",
   "execution_count": null,
   "id": "f2ac7e7c-5610-41f3-835d-c3160e0be467",
   "metadata": {},
   "outputs": [],
   "source": [
    "annotator.define_annotations(data, A=(\"startx\", \"endx\"), B=(\"starty\", \"endy\"), description=\"description\")"
   ]
  },
  {
   "cell_type": "markdown",
   "id": "949c7dd8",
   "metadata": {},
   "source": [
    "If a column name matches with a name of region or a field it will be used this means the `description=\"description` in the above line is not needed. "
   ]
  },
  {
   "cell_type": "code",
   "execution_count": null,
   "id": "8b37fb75-c6f0-4a88-b755-d9d0dc954417",
   "metadata": {},
   "outputs": [],
   "source": [
    "annotator.commit()"
   ]
  },
  {
   "cell_type": "markdown",
   "id": "245eff10-f59e-4b00-b933-68aafdd38499",
   "metadata": {},
   "source": [
    "### Preserving the index"
   ]
  },
  {
   "cell_type": "markdown",
   "id": "fda1a724-11e9-40e4-ae72-d2922c240fd0",
   "metadata": {},
   "source": [
    "Sometimes the annotations you are loading have meaningful primary keys defined elsewhere (e.g. some other pre-existing database) that need to be preserved. This is possible by supplying `index=True` in the `define_annotations` method.\n",
    "\n",
    "*Note: The user bears the same responsibilities for using appropriate index values as described in the  ***Caveats when picking your own primary keys*** section!*\n"
   ]
  },
  {
   "cell_type": "code",
   "execution_count": null,
   "id": "0bed94f1-6642-40a1-b352-6e74b13ac442",
   "metadata": {},
   "outputs": [],
   "source": [
    "uuids = ['DEADC0DE', 'CAFED00D', 'BAADF00D']\n",
    "indexed_data = pd.DataFrame({'uuid':uuids, \n",
    "                             'startx':startx, 'endx':endx, 'starty':starty, 'endy':endy, \n",
    "                             'description':[f'Labelled {el}' for el in descriptions]}).set_index('uuid')\n",
    "indexed_data"
   ]
  },
  {
   "cell_type": "markdown",
   "id": "dfbaa70c",
   "metadata": {},
   "source": [
    "To preserve the index call, the `define_annotations` must be called with `index=True`:"
   ]
  },
  {
   "cell_type": "code",
   "execution_count": null,
   "id": "3303236f-faf3-4ace-b18d-6e3d81984f3d",
   "metadata": {},
   "outputs": [],
   "source": [
    "annotator.define_annotations(indexed_data, A=(\"startx\", \"endx\"), B=(\"starty\", \"endy\"), description=\"description\", index=True)"
   ]
  },
  {
   "cell_type": "code",
   "execution_count": null,
   "id": "432d807e-0fc9-437a-81a9-75fde4561971",
   "metadata": {},
   "outputs": [],
   "source": [
    "annotator.df"
   ]
  },
  {
   "cell_type": "code",
   "execution_count": null,
   "id": "a7eacd72-b926-45a7-8ea6-be2d604cf9ce",
   "metadata": {},
   "outputs": [],
   "source": [
    "annotator.commit()"
   ]
  },
  {
   "cell_type": "markdown",
   "id": "57962a14-32be-4239-9ad3-f9eee5d18158",
   "metadata": {},
   "source": [
    "## 🚧 Selecting and highlighting annotations\n",
    "\n",
    "Earlier we styled the indicators with `color='red', alpha=0.2`. To highlight a select a specific indicator, we can create a dimension expression to assign selected and non-selected indicators different values. Here we have a highlighter that uses a value of `0.6` for selected indicators and `0.1` for non-selected indicators. We can then apply these values to the `alpha` option:"
   ]
  },
  {
   "cell_type": "code",
   "execution_count": null,
   "id": "9f937116-bf9c-439d-8288-bcb20ef7d044",
   "metadata": {},
   "outputs": [],
   "source": [
    "highlighter = annotator.selected_dim_expr(0.6, 0.1)\n",
    "annotator.element * annotator.indicators().opts(color='red', alpha=highlighter)  * annotator.region_editor()"
   ]
  },
  {
   "cell_type": "markdown",
   "id": "22ee298a-160d-4aeb-8988-658d6e09d04d",
   "metadata": {},
   "source": [
    "Now you can use the `Tap` tool to directly select indicators.\n",
    "\n",
    "You can now delesect by collecting `select_by_index()` without any arguments:"
   ]
  },
  {
   "cell_type": "code",
   "execution_count": null,
   "id": "c9f01e83-5eea-4b75-8164-9b851053b0c7",
   "metadata": {},
   "outputs": [],
   "source": [
    "annotator.select_by_index()"
   ]
  },
  {
   "cell_type": "markdown",
   "id": "526a45ef-31c6-475c-95e8-82ec73318bc4",
   "metadata": {},
   "source": [
    "And we can select one or more indicators by index value:"
   ]
  },
  {
   "cell_type": "code",
   "execution_count": null,
   "id": "346679b5-88d6-42fd-a0b6-a16875a3aa71",
   "metadata": {},
   "outputs": [],
   "source": [
    "annotator.df"
   ]
  },
  {
   "cell_type": "code",
   "execution_count": null,
   "id": "842a8345-e3eb-43e5-bc0c-c8da5a1d61a8",
   "metadata": {},
   "outputs": [],
   "source": [
    "annotator.select_by_index(annotator.df.index[0])"
   ]
  },
  {
   "cell_type": "markdown",
   "id": "e96a9082-ffdf-4eb6-a259-54d04c62dd06",
   "metadata": {},
   "source": [
    "You can access the selected indicators using the `selected_indices` parameter (watchable):"
   ]
  },
  {
   "cell_type": "code",
   "execution_count": null,
   "id": "a96009e8-197a-48fd-bca5-e455627de0f1",
   "metadata": {},
   "outputs": [],
   "source": [
    "annotator.selected_indices # parameter"
   ]
  },
  {
   "cell_type": "markdown",
   "id": "7987aa0d-d804-44bd-9d96-1cc96b741006",
   "metadata": {},
   "source": [
    "This demonstrates the basics without storing additional metadata, using the undo system or persisting any data.\n",
    "\n",
    "Note that everything shown so far can be achieved with simple Python API and a single line of display code:\n",
    "\n",
    "```\n",
    "annotator.element * annotator.indicators().opts(color='red', alpha=annotator.selected_dim_expr(0.6, 0.1)) * annotator.editable()\n",
    "```\n"
   ]
  },
  {
   "cell_type": "markdown",
   "id": "16134a64-1347-4ebe-909a-716f55c520ac",
   "metadata": {},
   "source": [
    "## 🚧 Using `.overlay`\n",
    "\n",
    "The `.overlay` method is a shortcut to building the following overlay:\n",
    "\n",
    "```\n",
    "annotator.element * annotator.indicators() * annotator.region_editor()\n",
    "```\n",
    "\n",
    "Where each layer can be enabled/disabled and styled individually: the above is equivalent to `annotator.overlay(element=True, indicators=True, editor=True)`.\n",
    "\n",
    "\n",
    "Note, if either building the overlay yourself or using `.overlay` with `element=False` you can use `annotator.element` *or* you can use the original element after adding the necessary tools with ```speed_curve.opts(tools=annotator.edit_tools)```.\n",
    "\n",
    "### Styling the annotator\n",
    "\n",
    "You can set the style either through the `_style` keywords in `.overlay`:"
   ]
  },
  {
   "cell_type": "code",
   "execution_count": null,
   "id": "a30ffca4-92ed-4bde-87fe-82c2485d7d2b",
   "metadata": {},
   "outputs": [],
   "source": [
    "annotator.overlay(range_style={'color': 'yellow', 'alpha': 0.4}, \n",
    "                  edit_range_style={'alpha': 0.4, 'line_alpha': 1, 'color':'blue'})"
   ]
  },
  {
   "cell_type": "markdown",
   "id": "0cde2049-de01-4615-99e3-3175806615cc",
   "metadata": {},
   "source": [
    "Or once at the class-level as follows:"
   ]
  },
  {
   "cell_type": "code",
   "execution_count": null,
   "id": "53cddcd9-897a-4ef7-bb1a-1e9dea2cdaee",
   "metadata": {},
   "outputs": [],
   "source": [
    "annotator.indicator.range_style['color']= 'green'\n",
    "annotator.indicator.edit_range_style['color'] = 'yellow'"
   ]
  }
 ],
 "metadata": {
  "language_info": {
   "name": "python",
   "pygments_lexer": "ipython3"
  }
 },
 "nbformat": 4,
 "nbformat_minor": 5
}
