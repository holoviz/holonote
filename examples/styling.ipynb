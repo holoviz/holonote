{
 "cells": [
  {
   "cell_type": "markdown",
   "id": "ed1bb358-ea08-4125-97d2-7aa49ef7dcbd",
   "metadata": {},
   "source": [
    "# Styling of annotations\n",
    "\n",
    "<div class=\"admonition note\" name=\"html-admonition\", style=>\n",
    "What you see in this notebook will depend on whether you've run this notebook before and written annotations to the <code>annotations.db</code> database! For reproducibility, the rest of the notebook will assume the <code>annotations.db</code> has been deleted (if it exists).\n",
    "</div>\n",
    "\n",
    "## Setup\n",
    "The first thing we need to do is get and plot the data we want to annotate. This is done by using [pandas](https://pandas.pydata.org/) and [hvplot](https://hvplot.holoviz.org/). We'll use the same data as in the [basics](Basics.ipynb) notebook.\n"
   ]
  },
  {
   "cell_type": "code",
   "execution_count": null,
   "id": "8cc9c2a3",
   "metadata": {},
   "outputs": [],
   "source": [
    "import hvplot.pandas\n",
    "import pandas as pd\n",
    "\n",
    "speed_data = pd.read_parquet(\"./assets/example.parquet\")\n",
    "curve = speed_data.hvplot(\"TIME\", \"SPEED\")"
   ]
  },
  {
   "cell_type": "markdown",
   "id": "d5c3264e-526d-4687-bec1-619cfea8793d",
   "metadata": {},
   "source": [
    "The next step is to create an annotator and add some annotations to it with `define_annotations`. "
   ]
  },
  {
   "cell_type": "code",
   "execution_count": null,
   "id": "9d011ecd-2b05-4735-abad-909c8df95c29",
   "metadata": {},
   "outputs": [],
   "source": [
    "from holonote.annotate import Annotator, SQLiteDB\n",
    "\n",
    "annotator = Annotator(\n",
    "    curve,\n",
    "    fields=[\"category\"],\n",
    "    connector=SQLiteDB(table_name=\"styling\"),\n",
    ")\n",
    "\n",
    "start_time = pd.date_range(\"2022-06-04\", \"2022-06-22\", periods=5)\n",
    "end_time = start_time + pd.Timedelta(days=2)\n",
    "data = {\n",
    "    \"start_time\": start_time,\n",
    "    \"end_time\": end_time,\n",
    "    \"category\": [\"A\", \"B\", \"A\", \"C\", \"B\"],\n",
    "}\n",
    "annotator.define_annotations(pd.DataFrame(data), TIME=(\"start_time\", \"end_time\"))\n",
    "annotator.df"
   ]
  },
  {
   "cell_type": "markdown",
   "id": "0fa81a9c-c1b1-4cbf-a29d-d4546dd335d9",
   "metadata": {},
   "source": [
    "To apply the annotation over the curve, you simply multiply the curve by the annotation. "
   ]
  },
  {
   "cell_type": "code",
   "execution_count": null,
   "id": "ffdea745-31ef-4c16-9dfe-4303e78067a2",
   "metadata": {},
   "outputs": [],
   "source": [
    "annotator * curve"
   ]
  },
  {
   "cell_type": "markdown",
   "id": "0c30c039-9c47-4cef-b18d-68c14b6a98cd",
   "metadata": {},
   "source": [
    "## Style accessor\n",
    "\n",
    "Styling in this context is achieved through the `style` accessor of annotators, accessed using `annotator.style`. This accessor provides various methods for customizing the appearance of annotations, with two key methods being `color` and `alpha`. We will discuss these in more detail shortly.\n",
    "\n",
    "There are three distinct style categories: `indicator`, `selected`, and `editor.` The `indicator` style is the default appearance, and in the example given above, it's represented by the color red. The `selected` style is applied when an annotation is actively selected, as indicated by the highlighting effect when you click on an annotation. Lastly, the `editor` style is used when an annotation is being edited, and this is evident when you click hold and drag the mouse anywhere on the plot, resulting in a blue region.\n",
    "\n",
    "To modify the `color` and `alpha` properties of these three style categories, you can easily do so using the `color` and `alpha` methods provided by the style accessor. For the `selected` style, you can use the `selection_color` and `selection_alpha` settings, and for the `editor` style, the corresponding properties are `edit_color` and `edit_alpha`.\n",
    "\n",
    "When a style changes, the plot is automatically updated, so you can easily experiment with different styles and see the results immediately. \n",
    "\n",
    "Let's see how this works in practice. Let's try updating the `color` and `alpha` properties of the `indicator` style."
   ]
  },
  {
   "cell_type": "code",
   "execution_count": null,
   "id": "1a2c7721-7af9-4193-ac1e-c5d9f1aa9bc7",
   "metadata": {},
   "outputs": [],
   "source": [
    "annotator.style.alpha = 0.5\n",
    "annotator.style.color = \"green\""
   ]
  },
  {
   "cell_type": "markdown",
   "id": "b213477e-0e5a-4aaf-8e5c-eac7c0ddd815",
   "metadata": {},
   "source": [
    "If we want to update the `selected` style, we can use the `selection_color` and `selection_alpha` methods. With these changes, any selected annotation will change its color to blue and remove its transparency."
   ]
  },
  {
   "cell_type": "code",
   "execution_count": null,
   "id": "6a83a9a5-b467-4f5d-8de2-5f23f472b5ee",
   "metadata": {},
   "outputs": [],
   "source": [
    "annotator.style.selection_alpha = 1\n",
    "annotator.style.selection_color = \"blue\""
   ]
  },
  {
   "cell_type": "markdown",
   "id": "29748a01-98c4-40f9-8a15-70e7b2cc1163",
   "metadata": {},
   "source": [
    "Lastly, we can change the `editor` style. Note this will first show up on the following editable annotation you create."
   ]
  },
  {
   "cell_type": "code",
   "execution_count": null,
   "id": "b983e43a-a6dc-4826-9842-fcb00baa174b",
   "metadata": {},
   "outputs": [],
   "source": [
    "annotator.style.edit_alpha = 0.2\n",
    "annotator.style.edit_color = \"yellow\""
   ]
  },
  {
   "cell_type": "markdown",
   "id": "9a0d6387-42cd-42bf-bb2c-60de5f30f1d8",
   "metadata": {},
   "source": [
    "If you want to reset the style to the default, you can use the `reset` method."
   ]
  },
  {
   "cell_type": "code",
   "execution_count": null,
   "id": "060bc058-9780-4c15-8abc-b3646172db3c",
   "metadata": {},
   "outputs": [],
   "source": [
    "annotator.style.reset()"
   ]
  },
  {
   "cell_type": "markdown",
   "id": "1ee84913-4308-45ea-ab9c-795c1686b319",
   "metadata": {},
   "source": [
    "## More granular styling\n",
    "\n",
    "If more granular style customization is needed than `color` and `alpha`, you can change the `annotator.style.opts` for the indicator and selected styles and `edit_opts` for the editor style. "
   ]
  },
  {
   "cell_type": "code",
   "execution_count": null,
   "id": "6f232b1c-52da-4b35-974a-32e74f3c115f",
   "metadata": {},
   "outputs": [],
   "source": [
    "annotator.style.edit_opts = {\"line_width\": 10}"
   ]
  },
  {
   "cell_type": "markdown",
   "id": "3672a818-7c24-4f0b-838e-10620c2d3b37",
   "metadata": {},
   "source": [
    "Lastly, you can use [dim transforms](https://holoviews.org/user_guide/Style_Mapping.html#what-are-dim-transforms) to make more advanced customization. An example of a dim transforms could be coloring based on the category. "
   ]
  },
  {
   "cell_type": "code",
   "execution_count": null,
   "id": "e0838752-cdf9-469b-af8b-39271d0ab521",
   "metadata": {},
   "outputs": [],
   "source": [
    "import holoviews as hv\n",
    "\n",
    "color_dim = hv.dim(\"category\").categorize(\n",
    "    categories={\"A\": \"blue\", \"B\": \"red\", \"C\": \"green\"}, default=\"grey\"\n",
    ")\n",
    "\n",
    "annotator.style.color = color_dim"
   ]
  },
  {
   "cell_type": "markdown",
   "id": "37ecf1a8-9a99-4c7a-86fe-fe688f3b6e8d",
   "metadata": {},
   "source": [
    "## Groupby a field\n",
    "Suppose one of the fields in the annotator contains categorial information and has a limited set of options. In that case, a way to group the annotations by this field is to use the `groupby` Parameter to group by that field and the `visible` Parameter to show one of the categories. Let's group by the `category` field and show the `A` category. For convenience, we show the annotated plot again below."
   ]
  },
  {
   "cell_type": "code",
   "execution_count": null,
   "id": "b6902e9d-1ac1-48ab-87af-0af1c5cee7f6",
   "metadata": {},
   "outputs": [],
   "source": [
    "annotator.groupby = \"category\"\n",
    "annotator.visible = [\"B\"]\n",
    "annotator * curve"
   ]
  },
  {
   "cell_type": "markdown",
   "id": "03a1635d",
   "metadata": {},
   "source": [
    "To get more interactivity a [Panel](https://panel.holoviz.org/) widget can be used to change the `visible` Parameter."
   ]
  },
  {
   "cell_type": "code",
   "execution_count": null,
   "id": "b0311e2a-6d09-40fa-9b16-fbf795cee00e",
   "metadata": {},
   "outputs": [],
   "source": [
    "import panel as pn\n",
    "\n",
    "widget = pn.widgets.MultiSelect(value=[\"A\"], options=[\"A\", \"B\", \"C\"])\n",
    "annotator.visible = widget\n",
    "\n",
    "widget"
   ]
  }
 ],
 "metadata": {
  "language_info": {
   "name": "python",
   "pygments_lexer": "ipython3"
  }
 },
 "nbformat": 4,
 "nbformat_minor": 5
}
