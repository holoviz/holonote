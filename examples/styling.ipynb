{
 "cells": [
  {
   "cell_type": "code",
   "execution_count": null,
   "id": "8cc9c2a3",
   "metadata": {},
   "outputs": [],
   "source": [
    "import holoviews as hv\n",
    "import hvplot.pandas\n",
    "import numpy as np\n",
    "import pandas as pd\n",
    "\n",
    "from holonote.annotate import Annotator, SQLiteDB, Style"
   ]
  },
  {
   "cell_type": "code",
   "execution_count": null,
   "id": "c7f7e238-873a-41f8-af3c-0fc6b55d6aca",
   "metadata": {},
   "outputs": [],
   "source": [
    "speed_data = pd.read_parquet(\"./assets/example.parquet\")\n",
    "speed_curve = speed_data.hvplot(\"TIME\", \"SPEED\")"
   ]
  },
  {
   "cell_type": "code",
   "execution_count": null,
   "id": "9d011ecd-2b05-4735-abad-909c8df95c29",
   "metadata": {},
   "outputs": [],
   "source": [
    "annotator = Annotator(\n",
    "    speed_curve,\n",
    "    fields=[\"description\", \"category\"],\n",
    "    connector=SQLiteDB(table_name=\"styling\"),\n",
    ")\n",
    "\n",
    "start_time = pd.date_range(\"2022-06-04\", \"2022-06-22\", periods=5)\n",
    "end_time = start_time + pd.Timedelta(days=2)\n",
    "data = {\n",
    "    \"category\": [\"A\", \"B\", \"A\", \"C\", \"B\"],\n",
    "    \"start_time\": start_time,\n",
    "    \"end_time\": end_time,\n",
    "    \"description\": list(\"ABCDE\"),\n",
    "}\n",
    "annotator.define_annotations(pd.DataFrame(data), TIME=(\"start_time\", \"end_time\"))"
   ]
  },
  {
   "cell_type": "code",
   "execution_count": null,
   "id": "ffdea745-31ef-4c16-9dfe-4303e78067a2",
   "metadata": {},
   "outputs": [],
   "source": [
    "annotator * speed_curve"
   ]
  },
  {
   "cell_type": "code",
   "execution_count": null,
   "id": "1a2c7721-7af9-4193-ac1e-c5d9f1aa9bc7",
   "metadata": {},
   "outputs": [],
   "source": [
    "annotator.style.alpha = 1\n",
    "annotator.style.selection_alpha = 0.8"
   ]
  },
  {
   "cell_type": "code",
   "execution_count": null,
   "id": "b983e43a-a6dc-4826-9842-fcb00baa174b",
   "metadata": {},
   "outputs": [],
   "source": [
    "annotator.style.edit_alpha = 0.2\n",
    "annotator.style.edit_color = \"yellow\""
   ]
  },
  {
   "cell_type": "code",
   "execution_count": null,
   "id": "121bf2dd-ba49-4cf5-a2ee-60347ea978aa",
   "metadata": {},
   "outputs": [],
   "source": [
    "annotator.style.color = \"blue\""
   ]
  },
  {
   "cell_type": "code",
   "execution_count": null,
   "id": "e0838752-cdf9-469b-af8b-39271d0ab521",
   "metadata": {},
   "outputs": [],
   "source": [
    "color_dim = hv.dim(\"category\").categorize(\n",
    "    categories={\"B\": \"red\", \"A\": \"blue\", \"C\": \"green\"}, default=\"grey\"\n",
    ")\n",
    "\n",
    "annotator.style.color = color_dim"
   ]
  },
  {
   "cell_type": "code",
   "execution_count": null,
   "id": "6f232b1c-52da-4b35-974a-32e74f3c115f",
   "metadata": {},
   "outputs": [],
   "source": [
    "annotator.style.edit_opts = {\"line_color\": None}"
   ]
  },
  {
   "cell_type": "code",
   "execution_count": null,
   "id": "060bc058-9780-4c15-8abc-b3646172db3c",
   "metadata": {},
   "outputs": [],
   "source": [
    "annotator.style.reset()"
   ]
  }
 ],
 "metadata": {
  "language_info": {
   "name": "python",
   "pygments_lexer": "ipython3"
  }
 },
 "nbformat": 4,
 "nbformat_minor": 5
}
