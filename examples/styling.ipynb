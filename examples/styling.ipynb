{
 "cells": [
  {
   "cell_type": "code",
   "execution_count": null,
   "id": "8cc9c2a3",
   "metadata": {},
   "outputs": [],
   "source": [
    "import holoviews as hv\n",
    "import hvplot.pandas\n",
    "import numpy as np\n",
    "import pandas as pd\n",
    "\n",
    "from holonote.annotate import Annotator, SQLiteDB\n",
    "from holonote.annotate.annotator import Style\n",
    "\n",
    "connector = SQLiteDB(table_name=\"test_curves\")\n",
    "\n",
    "speed_data = pd.read_parquet(\"./assets/example.parquet\")\n",
    "speed_data[\"TIME\"] = np.arange(speed_data[\"TIME\"].size)  # int for now\n",
    "speed_curve = speed_data.hvplot(\"TIME\", \"SPEED\")"
   ]
  },
  {
   "cell_type": "code",
   "execution_count": null,
   "id": "9d011ecd-2b05-4735-abad-909c8df95c29",
   "metadata": {},
   "outputs": [],
   "source": [
    "annotator = Annotator(\n",
    "    speed_curve, fields=[\"description\", \"category\"], connector=connector\n",
    ")\n",
    "# Sample data\n",
    "data = {\n",
    "    \"category\": pd.Categorical([\"A\", \"B\", \"A\", \"C\", \"B\"]),\n",
    "    \"start_number\": np.array([1, 6, 11, 16, 21]) * 1000,\n",
    "    \"end_number\": np.array([5, 10, 15, 20, 25]) * 1000,\n",
    "    \"description\": list(\"ABCDE\"),\n",
    "}\n",
    "\n",
    "annotator.define_annotations(pd.DataFrame(data), TIME=(\"start_number\", \"end_number\"))\n",
    "annotator.df"
   ]
  },
  {
   "cell_type": "code",
   "execution_count": null,
   "id": "bec15ec9-f283-42be-a090-ef288722da8f",
   "metadata": {},
   "outputs": [],
   "source": [
    "import panel as pn\n",
    "\n",
    "w1 = pn.widgets.MultiSelect(value=[\"A\"], options=list(\"ABC\"))\n",
    "w2 = pn.widgets.Select(value=\"category\", options=[\"description\", \"category\"])\n",
    "color_dim = hv.dim(\"category\").categorize(\n",
    "    categories={\"B\": \"red\", \"A\": \"blue\", \"C\": \"green\"}, default=\"grey\"\n",
    ")\n",
    "# style.groupby = \"category\"  # if not widget was used\n",
    "# style.visible = [\"A\", \"B\"]  # if not widget was used\n",
    "\n",
    "# Better if I did something like this: Annotator(..., style=style), only here for convenience.\n",
    "style = Style(visible=w1, groupby=w2, color=color_dim)\n",
    "annotator.style = style\n",
    "pn.Row(w1, w2)"
   ]
  },
  {
   "cell_type": "code",
   "execution_count": null,
   "id": "ffdea745-31ef-4c16-9dfe-4303e78067a2",
   "metadata": {},
   "outputs": [],
   "source": [
    "annotator * speed_curve"
   ]
  },
  {
   "cell_type": "code",
   "execution_count": null,
   "id": "1a2c7721-7af9-4193-ac1e-c5d9f1aa9bc7",
   "metadata": {},
   "outputs": [],
   "source": [
    "style.alpha = 0.2\n",
    "style.selection_alpha = 1"
   ]
  },
  {
   "cell_type": "code",
   "execution_count": null,
   "id": "702a8bfd-7d0d-4f62-b6a2-c5e02e153ee9",
   "metadata": {},
   "outputs": [],
   "source": [
    "# Not understanding why this is not the same as the color above... DynamicMap cache.\n",
    "style.groupby = None\n",
    "annotator * speed_curve"
   ]
  },
  {
   "cell_type": "code",
   "execution_count": null,
   "id": "b983e43a-a6dc-4826-9842-fcb00baa174b",
   "metadata": {},
   "outputs": [],
   "source": [
    "style.edit_alpha = 1"
   ]
  }
 ],
 "metadata": {
  "language_info": {
   "name": "python",
   "pygments_lexer": "ipython3"
  }
 },
 "nbformat": 4,
 "nbformat_minor": 5
}
